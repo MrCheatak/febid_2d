{
 "cells": [
  {
   "cell_type": "code",
   "execution_count": null,
   "outputs": [],
   "source": [
    "import numpy as np\n",
    "import matplotlib.pyplot as plt\n",
    "from processclass import Experiment2D\n",
    "from program import loop_param, plot\n",
    "from main import get_r_max, get_peak, get_peak_twinning, get_r_maxes"
   ],
   "metadata": {
    "collapsed": false,
    "ExecuteTime": {
     "start_time": "2023-05-04T15:23:48.027176Z",
     "end_time": "2023-05-04T15:23:48.038734Z"
    }
   }
  },
  {
   "cell_type": "code",
   "execution_count": null,
   "outputs": [],
   "source": [
    "pr = Experiment2D()\n",
    "# Initializing model\n",
    "pr.n0 = 2.7  # 1/nm^2\n",
    "pr.F = 730.0  # 1/nm^2/s\n",
    "pr.s = 1.0\n",
    "pr.V = 0.05  # nm^3\n",
    "pr.tau = 200e-6  # s\n",
    "pr.D = 8e5  # nm^2/s\n",
    "pr.sigma = 0.02  # nm^2\n",
    "pr.f0 = 1.0e7\n",
    "pr.fwhm = 50  # nm\n",
    "pr.order = 1\n",
    "pr.step = 0.5  # nm"
   ],
   "metadata": {
    "collapsed": false,
    "ExecuteTime": {
     "start_time": "2023-05-04T15:23:48.850380Z",
     "end_time": "2023-05-04T15:23:48.864198Z"
    }
   }
  },
  {
   "cell_type": "code",
   "execution_count": null,
   "outputs": [],
   "source": [
    "vals = [0, *np.arange(3.75e5, 3.8e5, 0.01e5), 3.8e5, 3.85e5, 3.9e5, 3.95e5, 4e5, 4.45e5, 5e5, 6e5, 7e5, 1e6, 1.5e6, 2e6]\n",
    "param_name = 'D'\n",
    "exps = loop_param(param_name, vals, pr)"
   ],
   "metadata": {
    "collapsed": false,
    "ExecuteTime": {
     "start_time": "2023-05-04T15:23:49.969282Z",
     "end_time": "2023-05-04T15:23:56.329050Z"
    }
   }
  },
  {
   "cell_type": "code",
   "execution_count": null,
   "outputs": [],
   "source": [
    "plot(exps, param_name, 'p_o', 'Diffusion coeff. vs diffusion path w/o irradiation')"
   ],
   "metadata": {
    "collapsed": false,
    "ExecuteTime": {
     "start_time": "2023-05-04T15:24:02.634063Z",
     "end_time": "2023-05-04T15:24:02.791668Z"
    }
   }
  },
  {
   "cell_type": "code",
   "execution_count": null,
   "outputs": [],
   "source": [
    "r_max, twin_peak = get_r_maxes(exps)\n",
    "fig, ax = plt.subplots()\n",
    "p_o = np.array([exp.p_o for exp in exps])\n",
    "line = ax.scatter(p_o, r_max, c=twin_peak)\n",
    "plt.title('Peak position vs diffusion path w/o irradiation')\n",
    "plt.show()"
   ],
   "metadata": {
    "collapsed": false,
    "ExecuteTime": {
     "start_time": "2023-05-04T14:50:21.159469Z",
     "end_time": "2023-05-04T14:50:21.320989Z"
    }
   }
  },
  {
   "cell_type": "code",
   "execution_count": null,
   "outputs": [],
   "source": [
    "vals = np.arange(5, 8.5, 0.2)\n",
    "vals = np.power(10, vals).astype(int)\n",
    "param_name = 'f0'\n",
    "exps = loop_param(param_name, vals, pr)"
   ],
   "metadata": {
    "collapsed": false,
    "ExecuteTime": {
     "start_time": "2023-05-04T14:50:21.321988Z",
     "end_time": "2023-05-04T14:50:31.457506Z"
    }
   }
  },
  {
   "cell_type": "code",
   "execution_count": null,
   "outputs": [],
   "source": [
    "plot(exps, param_name, 'p_o', 'Electron flux vs diffusion path w/o irradiation')"
   ],
   "metadata": {
    "collapsed": false,
    "ExecuteTime": {
     "start_time": "2023-05-04T14:50:31.458536Z",
     "end_time": "2023-05-04T14:50:31.613869Z"
    }
   }
  },
  {
   "cell_type": "code",
   "execution_count": null,
   "outputs": [],
   "source": [
    "vals = np.arange(5, 100, 7)\n",
    "param_name = 'fwhm'\n",
    "exps = loop_param(param_name, vals, pr)"
   ],
   "metadata": {
    "collapsed": false,
    "ExecuteTime": {
     "start_time": "2023-05-04T14:50:31.616870Z",
     "end_time": "2023-05-04T14:50:39.635039Z"
    }
   }
  },
  {
   "cell_type": "code",
   "execution_count": null,
   "outputs": [],
   "source": [
    "plot(exps, param_name, 'p_o', 'Beam FWHM vs diffusion path w/o irradiation')"
   ],
   "metadata": {
    "collapsed": false,
    "ExecuteTime": {
     "start_time": "2023-05-04T14:50:39.636039Z",
     "end_time": "2023-05-04T14:50:39.891620Z"
    }
   }
  },
  {
   "cell_type": "code",
   "execution_count": null,
   "outputs": [],
   "source": [
    "r_max, twin_peak = get_r_maxes(exps)\n",
    "fig, ax = plt.subplots()\n",
    "p_o = np.array([exp.p_o for exp in exps])\n",
    "line = ax.scatter(p_o, r_max, c=twin_peak)\n",
    "plt.title('Peak position vs diffusion path w/o irradiation')\n",
    "plt.show()"
   ],
   "metadata": {
    "collapsed": false,
    "ExecuteTime": {
     "start_time": "2023-05-04T14:50:39.899776Z",
     "end_time": "2023-05-04T14:50:40.064650Z"
    }
   }
  },
  {
   "cell_type": "code",
   "execution_count": null,
   "outputs": [],
   "source": [
    "vals = np.arange(50e-6, 500e-6, 20e-6).round(6)\n",
    "param_name = 'tau'\n",
    "exps = loop_param(param_name, vals, pr)"
   ],
   "metadata": {
    "collapsed": false,
    "ExecuteTime": {
     "start_time": "2023-05-04T14:50:40.065658Z",
     "end_time": "2023-05-04T14:51:01.566584Z"
    }
   }
  },
  {
   "cell_type": "code",
   "execution_count": null,
   "outputs": [],
   "source": [
    "plot(exps, param_name, 'p_o', 'Residence time vs diffusion path w/o irradiation')"
   ],
   "metadata": {
    "collapsed": false,
    "ExecuteTime": {
     "start_time": "2023-05-04T14:51:01.568583Z",
     "end_time": "2023-05-04T14:51:01.739565Z"
    }
   }
  },
  {
   "cell_type": "code",
   "execution_count": null,
   "outputs": [],
   "source": [
    "r_max, twin_peak = get_r_maxes(exps)\n",
    "fig, ax = plt.subplots()\n",
    "p_o = np.array([exp.p_o for exp in exps])\n",
    "line = ax.scatter(p_o, r_max, c=twin_peak)\n",
    "plt.title('Peak position vs diffusion path w/o irradiation')\n",
    "plt.show()"
   ],
   "metadata": {
    "collapsed": false,
    "ExecuteTime": {
     "start_time": "2023-05-04T14:51:01.741565Z",
     "end_time": "2023-05-04T14:51:01.956626Z"
    }
   }
  },
  {
   "cell_type": "code",
   "execution_count": null,
   "outputs": [],
   "source": [],
   "metadata": {
    "collapsed": false,
    "ExecuteTime": {
     "start_time": "2023-05-04T14:51:01.958628Z",
     "end_time": "2023-05-04T14:51:01.972624Z"
    }
   }
  }
 ],
 "metadata": {
  "kernelspec": {
   "display_name": "Python 3",
   "language": "python",
   "name": "python3"
  },
  "language_info": {
   "codemirror_mode": {
    "name": "ipython",
    "version": 2
   },
   "file_extension": ".py",
   "mimetype": "text/x-python",
   "name": "python",
   "nbconvert_exporter": "python",
   "pygments_lexer": "ipython2",
   "version": "2.7.6"
  }
 },
 "nbformat": 4,
 "nbformat_minor": 0
}
