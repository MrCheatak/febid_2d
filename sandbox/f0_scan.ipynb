{
 "cells": [
  {
   "cell_type": "code",
   "execution_count": 1,
   "outputs": [],
   "source": [
    "import numpy as np\n",
    "import matplotlib.pyplot as plt\n",
    "from processclass import Experiment2D\n",
    "from experimentsclass import loop_param\n",
    "from plotting import plot_from_exps"
   ],
   "metadata": {
    "collapsed": false,
    "ExecuteTime": {
     "end_time": "2023-10-25T10:05:36.937988200Z",
     "start_time": "2023-10-25T10:05:36.329622Z"
    }
   }
  },
  {
   "cell_type": "code",
   "execution_count": 2,
   "outputs": [],
   "source": [
    "pr = Experiment2D()\n",
    "# Initializing model\n",
    "pr.n0 = 2.7  # 1/nm^2\n",
    "pr.F = 1700.0  # 1/nm^2/s\n",
    "pr.s = 1.0\n",
    "pr.V = 0.05  # nm^3\n",
    "pr.tau = 100e-6  # s\n",
    "pr.D = 3e5  # nm^2/s\n",
    "pr.sigma = 0.022  # nm^2\n",
    "pr.f0 = 1.0e7\n",
    "pr.beam_type = 'gauss'\n",
    "pr.fwhm = 50  # nm\n",
    "pr.order = 1\n",
    "pr.step = 0.5  # nm"
   ],
   "metadata": {
    "collapsed": false,
    "ExecuteTime": {
     "end_time": "2023-10-25T10:05:36.952243600Z",
     "start_time": "2023-10-25T10:05:36.939988400Z"
    }
   }
  },
  {
   "cell_type": "code",
   "execution_count": 3,
   "outputs": [
    {
     "name": "stdout",
     "output_type": "stream",
     "text": [
      "p_o: 0.21250128099634388, tau_r: 1.9407665505226477\n"
     ]
    },
    {
     "ename": "ValueError",
     "evalue": "Solution unstable!",
     "output_type": "error",
     "traceback": [
      "\u001B[1;31m---------------------------------------------------------------------------\u001B[0m",
      "\u001B[1;31mValueError\u001B[0m                                Traceback (most recent call last)",
      "Cell \u001B[1;32mIn[3], line 4\u001B[0m\n\u001B[0;32m      2\u001B[0m vals \u001B[38;5;241m=\u001B[39m np\u001B[38;5;241m.\u001B[39mpower(\u001B[38;5;241m10\u001B[39m, vals)\u001B[38;5;241m.\u001B[39mastype(\u001B[38;5;28mint\u001B[39m)\n\u001B[0;32m      3\u001B[0m param_name \u001B[38;5;241m=\u001B[39m \u001B[38;5;124m'\u001B[39m\u001B[38;5;124mf0\u001B[39m\u001B[38;5;124m'\u001B[39m\n\u001B[1;32m----> 4\u001B[0m exps \u001B[38;5;241m=\u001B[39m \u001B[43mloop_param\u001B[49m\u001B[43m(\u001B[49m\u001B[43mparam_name\u001B[49m\u001B[43m,\u001B[49m\u001B[43m \u001B[49m\u001B[43mvals\u001B[49m\u001B[43m,\u001B[49m\u001B[43m \u001B[49m\u001B[43mpr\u001B[49m\u001B[43m)\u001B[49m\n\u001B[0;32m      5\u001B[0m exps\u001B[38;5;241m.\u001B[39mparam \u001B[38;5;241m=\u001B[39m param_name\n\u001B[0;32m      6\u001B[0m r_max \u001B[38;5;241m=\u001B[39m exps\u001B[38;5;241m.\u001B[39mr_max\n",
      "File \u001B[1;32m~\\PycharmProjects\\febid_2d\\experimentsclass.py:202\u001B[0m, in \u001B[0;36mloop_param\u001B[1;34m(names, vals, pr_init, backend, mgr, **kwargs)\u001B[0m\n\u001B[0;32m    200\u001B[0m     f \u001B[38;5;241m=\u001B[39m pr\u001B[38;5;241m.\u001B[39mget_beam(r)\n\u001B[0;32m    201\u001B[0m     n_a \u001B[38;5;241m=\u001B[39m pr\u001B[38;5;241m.\u001B[39manalytic(r)\n\u001B[1;32m--> 202\u001B[0m pr\u001B[38;5;241m.\u001B[39msolve_steady_state(r, f, n_init\u001B[38;5;241m=\u001B[39mn_a, \u001B[38;5;241m*\u001B[39m\u001B[38;5;241m*\u001B[39mkwargs)\n\u001B[0;32m    203\u001B[0m exps\u001B[38;5;241m.\u001B[39madd_experiment(pr)\n\u001B[0;32m    204\u001B[0m \u001B[38;5;28;01mif\u001B[39;00m mgr \u001B[38;5;129;01mis\u001B[39;00m \u001B[38;5;129;01mnot\u001B[39;00m \u001B[38;5;28;01mNone\u001B[39;00m:\n",
      "File \u001B[1;32m~\\PycharmProjects\\febid_2d\\processclass.py:101\u001B[0m, in \u001B[0;36mExperiment2D.solve_steady_state\u001B[1;34m(self, r, f, eps, n_init, **kwargs)\u001B[0m\n\u001B[0;32m     99\u001B[0m     func \u001B[38;5;241m=\u001B[39m \u001B[38;5;28mself\u001B[39m\u001B[38;5;241m.\u001B[39m__numeric_gpu\n\u001B[0;32m    100\u001B[0m \u001B[38;5;28;01mif\u001B[39;00m \u001B[38;5;28mself\u001B[39m\u001B[38;5;241m.\u001B[39mD \u001B[38;5;241m!=\u001B[39m \u001B[38;5;241m0\u001B[39m \u001B[38;5;129;01mor\u001B[39;00m \u001B[38;5;28mself\u001B[39m\u001B[38;5;241m.\u001B[39mp_o \u001B[38;5;241m!=\u001B[39m \u001B[38;5;241m0\u001B[39m:\n\u001B[1;32m--> 101\u001B[0m     n \u001B[38;5;241m=\u001B[39m func(f, eps, n, \u001B[38;5;241m*\u001B[39m\u001B[38;5;241m*\u001B[39mkwargs)\n\u001B[0;32m    102\u001B[0m \u001B[38;5;28mself\u001B[39m\u001B[38;5;241m.\u001B[39m_interp \u001B[38;5;241m=\u001B[39m \u001B[38;5;28;01mNone\u001B[39;00m\n\u001B[0;32m    103\u001B[0m \u001B[38;5;28;01mreturn\u001B[39;00m n\n",
      "File \u001B[1;32m~\\PycharmProjects\\febid_2d\\processclass.py:139\u001B[0m, in \u001B[0;36mExperiment2D.__numeric\u001B[1;34m(self, f, eps, n_init, progress)\u001B[0m\n\u001B[0;32m    137\u001B[0m \u001B[38;5;28;01mif\u001B[39;00m n\u001B[38;5;241m.\u001B[39mmax() \u001B[38;5;241m>\u001B[39m \u001B[38;5;28mself\u001B[39m\u001B[38;5;241m.\u001B[39mn0 \u001B[38;5;129;01mor\u001B[39;00m n\u001B[38;5;241m.\u001B[39mmin() \u001B[38;5;241m<\u001B[39m \u001B[38;5;241m0\u001B[39m:\n\u001B[0;32m    138\u001B[0m     \u001B[38;5;28mprint\u001B[39m(\u001B[38;5;124mf\u001B[39m\u001B[38;5;124m'\u001B[39m\u001B[38;5;124mp_o: \u001B[39m\u001B[38;5;132;01m{\u001B[39;00m\u001B[38;5;28mself\u001B[39m\u001B[38;5;241m.\u001B[39mp_o\u001B[38;5;132;01m}\u001B[39;00m\u001B[38;5;124m, tau_r: \u001B[39m\u001B[38;5;132;01m{\u001B[39;00m\u001B[38;5;28mself\u001B[39m\u001B[38;5;241m.\u001B[39mtau_r\u001B[38;5;132;01m}\u001B[39;00m\u001B[38;5;124m'\u001B[39m)\n\u001B[1;32m--> 139\u001B[0m     \u001B[38;5;28;01mraise\u001B[39;00m \u001B[38;5;167;01mValueError\u001B[39;00m(\u001B[38;5;124m'\u001B[39m\u001B[38;5;124mSolution unstable!\u001B[39m\u001B[38;5;124m'\u001B[39m)\n\u001B[0;32m    140\u001B[0m norm \u001B[38;5;241m=\u001B[39m (np\u001B[38;5;241m.\u001B[39mlinalg\u001B[38;5;241m.\u001B[39mnorm(n[\u001B[38;5;241m1\u001B[39m:] \u001B[38;5;241m-\u001B[39m n_check[\u001B[38;5;241m1\u001B[39m:]) \u001B[38;5;241m/\u001B[39m np\u001B[38;5;241m.\u001B[39mlinalg\u001B[38;5;241m.\u001B[39mnorm(n[\u001B[38;5;241m1\u001B[39m:]))\n\u001B[0;32m    141\u001B[0m norm_array\u001B[38;5;241m.\u001B[39mappend(norm)  \u001B[38;5;66;03m# recording achieved accuracy for fitting\u001B[39;00m\n",
      "\u001B[1;31mValueError\u001B[0m: Solution unstable!"
     ]
    }
   ],
   "source": [
    "vals = np.arange(4, 7, 0.5)\n",
    "vals = np.power(10, vals).astype(int)\n",
    "param_name = 'f0'\n",
    "exps = loop_param(param_name, vals, pr)\n",
    "exps.param = param_name\n",
    "r_max = exps.r_max\n",
    "twin_peak = exps.get_peak_twinning()\n",
    "exps.plot()"
   ],
   "metadata": {
    "collapsed": false,
    "ExecuteTime": {
     "end_time": "2023-10-25T10:05:37.250679200Z",
     "start_time": "2023-10-25T10:05:36.954315800Z"
    }
   }
  },
  {
   "cell_type": "code",
   "execution_count": null,
   "outputs": [],
   "source": [
    "plot_from_exps(exps, param_name, 'p_i', title='Diffusion path at the beam center vs Residence time', color=twin_peak, logx=True)"
   ],
   "metadata": {
    "collapsed": false,
    "ExecuteTime": {
     "end_time": "2023-10-25T10:05:37.253783300Z",
     "start_time": "2023-10-25T10:05:37.252780900Z"
    }
   }
  },
  {
   "cell_type": "code",
   "execution_count": null,
   "outputs": [],
   "source": [
    "plot_from_exps(exps, param_name, 'p_o', title='Diffusion path outside of BIR vs Residence time', color=twin_peak, logx=True)"
   ],
   "metadata": {
    "collapsed": false,
    "ExecuteTime": {
     "end_time": "2023-10-25T10:05:37.253783300Z",
     "start_time": "2023-10-25T10:05:37.253783300Z"
    }
   }
  },
  {
   "cell_type": "code",
   "execution_count": null,
   "outputs": [],
   "source": [
    "plot_from_exps(exps, param_name, 'tau_r', title='Relative depletion vs Residence time', color=twin_peak, logx=True)"
   ],
   "metadata": {
    "collapsed": false,
    "ExecuteTime": {
     "start_time": "2023-10-25T10:05:37.255864300Z"
    }
   }
  },
  {
   "cell_type": "code",
   "execution_count": null,
   "outputs": [],
   "source": [
    "plot_from_exps(exps, 'p_o', 'tau_r', title='Relative depletion vs diff. path outside BIR', color=r_max, logx=True, logy=True)"
   ],
   "metadata": {
    "collapsed": false,
    "ExecuteTime": {
     "start_time": "2023-10-25T10:05:37.256864500Z"
    }
   }
  },
  {
   "cell_type": "code",
   "execution_count": null,
   "outputs": [],
   "source": [
    "plot_from_exps(exps, param_name, 'r_max', title='Peak position vs diffusion coefficient', color=r_max)"
   ],
   "metadata": {
    "collapsed": false,
    "ExecuteTime": {
     "start_time": "2023-10-25T10:05:37.258864500Z"
    }
   }
  },
  {
   "cell_type": "code",
   "execution_count": null,
   "outputs": [],
   "source": [
    "plot_from_exps(exps, 'p_i', 'r_max', title='Peak position vs diffusion path at the beam center', color=twin_peak)"
   ],
   "metadata": {
    "collapsed": false,
    "ExecuteTime": {
     "start_time": "2023-10-25T10:05:37.259990400Z"
    }
   }
  },
  {
   "cell_type": "code",
   "execution_count": null,
   "outputs": [],
   "source": [
    "plot_from_exps(exps, 'p_o', 'r_max', title='Peak position vs diffusion path outside of BIR', color=twin_peak)"
   ],
   "metadata": {
    "collapsed": false,
    "ExecuteTime": {
     "start_time": "2023-10-25T10:05:37.260992700Z"
    }
   }
  },
  {
   "cell_type": "code",
   "execution_count": null,
   "outputs": [],
   "source": [
    "plot_from_exps(exps, 'p_o', 'tau_r', title='Relative depletion vs diff. path outside BIR', color=twin_peak)"
   ],
   "metadata": {
    "collapsed": false,
    "ExecuteTime": {
     "start_time": "2023-10-25T10:05:37.261993100Z"
    }
   }
  },
  {
   "cell_type": "code",
   "execution_count": null,
   "outputs": [],
   "source": [
    "plot_from_exps(exps, 'tau_r', 'r_max', title='Peak position vs diffusion path outside of BIR', color=twin_peak)"
   ],
   "metadata": {
    "collapsed": false,
    "ExecuteTime": {
     "start_time": "2023-10-25T10:05:37.263014800Z"
    }
   }
  },
  {
   "cell_type": "code",
   "execution_count": null,
   "outputs": [],
   "source": [],
   "metadata": {
    "collapsed": false,
    "ExecuteTime": {
     "start_time": "2023-10-25T10:05:37.264458Z"
    }
   }
  }
 ],
 "metadata": {
  "kernelspec": {
   "display_name": "Python 3",
   "language": "python",
   "name": "python3"
  },
  "language_info": {
   "codemirror_mode": {
    "name": "ipython",
    "version": 2
   },
   "file_extension": ".py",
   "mimetype": "text/x-python",
   "name": "python",
   "nbconvert_exporter": "python",
   "pygments_lexer": "ipython2",
   "version": "2.7.6"
  }
 },
 "nbformat": 4,
 "nbformat_minor": 0
}
