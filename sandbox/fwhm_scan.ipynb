{
 "cells": [
  {
   "cell_type": "code",
   "execution_count": null,
   "outputs": [],
   "source": [
    "import numpy as np\n",
    "import matplotlib.pyplot as plt\n",
    "from processclass import Experiment2D\n",
    "from program import loop_param, plot"
   ],
   "metadata": {
    "collapsed": false
   }
  },
  {
   "cell_type": "code",
   "execution_count": null,
   "outputs": [],
   "source": [
    "pr = Experiment2D()\n",
    "# Initializing model\n",
    "pr.n0 = 2.7  # 1/nm^2\n",
    "pr.F = 730.0  # 1/nm^2/s\n",
    "pr.s = 1.0\n",
    "pr.V = 0.05  # nm^3\n",
    "pr.tau = 200e-6  # s\n",
    "pr.D = 40e5  # nm^2/s\n",
    "pr.sigma = 0.02  # nm^2\n",
    "pr.f0 = 1.0e7\n",
    "pr.fwhm = 50  # nm\n",
    "pr.order = 1\n",
    "pr.step = 0.5  # nm"
   ],
   "metadata": {
    "collapsed": false
   }
  },
  {
   "cell_type": "code",
   "execution_count": null,
   "outputs": [],
   "source": [
    "vals = np.arange(5, 100, 7)\n",
    "param_name = 'fwhm'\n",
    "exps = loop_param(param_name, vals, pr)\n",
    "exps.param = param_name\n",
    "r_max = exps.r_max\n",
    "twin_peak = exps.get_peak_twinning()\n",
    "exps.plot()"
   ],
   "metadata": {
    "collapsed": false
   }
  },
  {
   "cell_type": "code",
   "execution_count": null,
   "outputs": [],
   "source": [
    "plot(exps, param_name, 'p_i', 'Diffusion path at the beam center vs Residence time', twin_peak)"
   ],
   "metadata": {
    "collapsed": false
   }
  },
  {
   "cell_type": "code",
   "execution_count": null,
   "outputs": [],
   "source": [
    "plot(exps, param_name, 'p_o', 'Diffusion path outside of BIR vs Residence time', twin_peak)"
   ],
   "metadata": {
    "collapsed": false
   }
  },
  {
   "cell_type": "code",
   "execution_count": null,
   "outputs": [],
   "source": [
    "plot(exps, param_name, 'tau_r', 'Relative depletion vs Residence time', twin_peak)"
   ],
   "metadata": {
    "collapsed": false
   }
  },
  {
   "cell_type": "code",
   "execution_count": null,
   "outputs": [],
   "source": [
    "plot(exps, param_name, 'r_max', 'Peak position vs diffusion coefficient', r_max)"
   ],
   "metadata": {
    "collapsed": false
   }
  },
  {
   "cell_type": "code",
   "execution_count": null,
   "outputs": [],
   "source": [
    "plot(exps, 'p_i', 'r_max', 'Peak position vs diffusion path at the beam center', twin_peak)"
   ],
   "metadata": {
    "collapsed": false
   }
  },
  {
   "cell_type": "code",
   "execution_count": null,
   "outputs": [],
   "source": [
    "plot(exps, 'p_o', 'r_max', 'Peak position vs diffusion path outside of BIR', twin_peak)"
   ],
   "metadata": {
    "collapsed": false
   }
  },
  {
   "cell_type": "code",
   "execution_count": null,
   "outputs": [],
   "source": [
    "plot(exps, 'tau_r', 'r_max', 'Peak position vs diffusion path outside of BIR', twin_peak)"
   ],
   "metadata": {
    "collapsed": false
   }
  }
 ],
 "metadata": {
  "kernelspec": {
   "display_name": "Python 3",
   "language": "python",
   "name": "python3"
  },
  "language_info": {
   "codemirror_mode": {
    "name": "ipython",
    "version": 2
   },
   "file_extension": ".py",
   "mimetype": "text/x-python",
   "name": "python",
   "nbconvert_exporter": "python",
   "pygments_lexer": "ipython2",
   "version": "2.7.6"
  }
 },
 "nbformat": 4,
 "nbformat_minor": 0
}
