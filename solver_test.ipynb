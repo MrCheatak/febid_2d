{
 "cells": [
  {
   "cell_type": "code",
   "execution_count": null,
   "metadata": {
    "collapsed": true
   },
   "outputs": [],
   "source": [
    "import numpy as np\n",
    "import matplotlib.pyplot as plt\n",
    "from processclass import Experiment2D\n",
    "from pso_optimizer_class import PSO_Optimizer\n",
    "from analyse import deposit_fwhm, get_peak"
   ]
  },
  {
   "cell_type": "markdown",
   "source": [
    "Generating reference data"
   ],
   "metadata": {
    "collapsed": false
   }
  },
  {
   "cell_type": "code",
   "execution_count": null,
   "outputs": [],
   "source": [
    "pr = Experiment2D()\n",
    "# Initializing model\n",
    "pr.n0 = 2.7  # 1/nm^2\n",
    "pr.F = 730.0  # 1/nm^2/s\n",
    "pr.s = 1.0\n",
    "pr.V = 0.05  # nm^3\n",
    "pr.tau = 200e-6  # s\n",
    "pr.D = 12e5  # nm^2/s\n",
    "pr.sigma = 0.02  # nm^2\n",
    "pr.f0 = 1.0e12\n",
    "pr.fwhm = 100  # nm\n",
    "pr.order = 1\n",
    "pr.step = 0.5  # nm\n",
    "\n",
    "pr.solve_steady_state()\n",
    "R = pr.R\n",
    "r = pr.r\n",
    "fig, ax = plt.subplots()\n",
    "plt.plot(r, R)\n",
    "plt.title('Normed R(r)')\n",
    "params = pr.__dict__\n",
    "[params.pop(key) for key in ['_R', 'r', 'f', 'n']]\n",
    "fname = 'example_curve2.txt'\n",
    "with open(fname, mode='w') as f:\n",
    "    f.write('r(radius)\\tR(growth rate)\\n')\n",
    "    for i in range(R.size):\n",
    "        f.write(f'{r[i]}\\t{R[i]}\\n')\n",
    "    f.write('\\nParameters used:\\n')\n",
    "    for key, val in params.items():\n",
    "        f.write(f'{key}:{val}\\n')"
   ],
   "metadata": {
    "collapsed": false
   }
  },
  {
   "cell_type": "markdown",
   "source": [
    "Changing parameters and trying to find them via the optimizer"
   ],
   "metadata": {
    "collapsed": false
   }
  },
  {
   "cell_type": "code",
   "execution_count": null,
   "outputs": [],
   "source": [
    "pr = Experiment2D()\n",
    "pr.n0 = 2.7  # 1/nm^2\n",
    "pr.F = 730.0  # 1/nm^2/s\n",
    "pr.s = 1.0\n",
    "pr.V = 0.05  # nm^3\n",
    "pr.tau = 800e-6 # s\n",
    "pr.D = 3e6 # nm^2/s\n",
    "pr.sigma = 0.05  # nm^2\n",
    "pr.f0 = 5.0e8\n",
    "pr.fwhm = 100  # nm\n",
    "pr.order = 1\n",
    "pr.step = 0.5  # nm\n",
    "optimiser = PSO_Optimizer(pr, 3, 3, 10)\n",
    "optimiser.set_reference(r, R)\n",
    "sigma = [0.009, 0.07, 0.002, 'sigma']\n",
    "D = [1e5, 2e7, 2e4, 'D']\n",
    "tau = [20e-6, 1000e-6, 20e-6, 'tau']\n",
    "optimiser.set_variables(sigma, D, tau)\n",
    "vals_opt = optimiser.optimize_pso()\n",
    "pr.sigma, pr.D, pr.tau = vals_opt\n",
    "pr.solve_steady_state()\n",
    "fig, ax = plt.subplots()\n",
    "scat = ax.scatter(r, R, label='Reference')\n",
    "scat1 = ax.scatter(pr.r, pr.R, label='Solution')\n",
    "plt.show()\n",
    "print(vals_opt)"
   ],
   "metadata": {
    "collapsed": false
   }
  }
 ],
 "metadata": {
  "kernelspec": {
   "display_name": "Python 3",
   "language": "python",
   "name": "python3"
  },
  "language_info": {
   "codemirror_mode": {
    "name": "ipython",
    "version": 2
   },
   "file_extension": ".py",
   "mimetype": "text/x-python",
   "name": "python",
   "nbconvert_exporter": "python",
   "pygments_lexer": "ipython2",
   "version": "2.7.6"
  }
 },
 "nbformat": 4,
 "nbformat_minor": 0
}
