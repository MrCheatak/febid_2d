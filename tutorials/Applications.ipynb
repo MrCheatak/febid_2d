{
 "cells": [
  {
   "metadata": {},
   "cell_type": "markdown",
   "source": [
    "# Interactive applications (with UI)\n",
    "The 'apps' folder contains 2 applications that can be run by executing their python scripts:"
   ],
   "id": "646134c2e5fb7232"
  },
  {
   "metadata": {},
   "cell_type": "markdown",
   "source": [
    "## 1. Growth rate profile calculator\n",
    "The app is basically an interactive representation of the Continuum model for FEBID, where the final result is the growth rate profile. The user can change the precursor parameters and beam setting with sliders and instantly see their influence on the growth rate profile. It should give a more transparent insight into the model and the interplay between different processes and their parameters.\n",
    "\n",
    "Launch application by running the `growth_rate_profile.py` script.\n",
    "\n",
    "The app uses the `Experiment1D` class as the backend and produces the growth rate by running `solve_steady_state` method.\n"
   ],
   "id": "36047b871702ccdc"
  },
  {
   "metadata": {},
   "cell_type": "markdown",
   "source": [
    "## 2. Temperature influence calculator\n",
    "This app is based on the same conditions with the only changing parameter being the temperature. The temperature-dependent parameters (residence time and Surface diffusion coefficient) are linked to it via the Arrhenius equations. These parameters then make the process parameters depletion and diffusive replenishment dependent on temperature as well. These process parameters are plotted as points for several fixed temperatures. \n",
    "The user has control over the set of parameters that affect temperature dependence character such as activation energies and pre-exponential factors. These parameters can be then observed to change the positions of the points on the plot. \n",
    "\n",
    "Launch application by running the `temperature_influence.py` script."
   ],
   "id": "d18c616a62983a4"
  }
 ],
 "metadata": {
  "kernelspec": {
   "display_name": "Python 3",
   "language": "python",
   "name": "python3"
  },
  "language_info": {
   "codemirror_mode": {
    "name": "ipython",
    "version": 2
   },
   "file_extension": ".py",
   "mimetype": "text/x-python",
   "name": "python",
   "nbconvert_exporter": "python",
   "pygments_lexer": "ipython2",
   "version": "2.7.6"
  }
 },
 "nbformat": 4,
 "nbformat_minor": 5
}
