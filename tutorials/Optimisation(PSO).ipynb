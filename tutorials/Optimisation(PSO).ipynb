{
 "cells": [
  {
   "metadata": {},
   "cell_type": "markdown",
   "source": [
    "# Optimisation problem\n",
    "Consider a problem of finding a minimum of a function. The generic solution is probing the function and gradually looking for smaller values.\n",
    "\n",
    "Next, consider a problem: if y=f(x), then at which x the y is equal to z. Finding the z is called the optimization problem. \n",
    "\n",
    "One of the tools for tacking this problem is Particle Swarm Optimisation (PSO). It is a population-based stochastic optimisation technique inspired by the social behaviour of birds.\n",
    "Here we will see how to set up a solution using a simple minimiser and a more complex PSO algorithm."
   ],
   "id": "baa520d27cb2a357"
  },
  {
   "metadata": {},
   "cell_type": "markdown",
   "source": "The example presented here is a 2D problem. We will be looking for a pair of the process parameters of the deposition process (tau_r, p_o) that will result in a deposit with the given pair of features (r_max, R_ind). The function that we will be minimising is the difference between the target values and the values calculated by the model.",
   "id": "9b095b834b7093c8"
  },
  {
   "metadata": {},
   "cell_type": "code",
   "source": [
    "import numpy as np\n",
    "from scipy.optimize import minimize\n",
    "from backend.processclass2 import Experiment1D_Dimensionless\n",
    "from backend.adaptive_tools import learner_interpolator, learner_load_full\n",
    "from backend.pso_optimizer_class_base import PSOptimizerMP"
   ],
   "id": "e905fcc7d66ff2d",
   "outputs": [],
   "execution_count": null
  },
  {
   "metadata": {},
   "cell_type": "markdown",
   "source": [
    "## 1. Define the problem\n",
    "Firstly, we define the experiment by creating an instance of the Experiment1D_Dimensionless class. We set the parameters of the experiment that are important for the current case."
   ],
   "id": "611f2c7647612ae6"
  },
  {
   "metadata": {},
   "cell_type": "code",
   "source": [
    "pr_d = Experiment1D_Dimensionless()\n",
    "pr_d.step = 1\n",
    "pr_d.tau_r = 5000\n",
    "pr_d.p_o = 2\n",
    "pr_d.fwhm = 200\n",
    "pr_d.f0 = 1e7\n",
    "pr_d.beam_type = 'super_gauss'\n",
    "pr_d.order = 4"
   ],
   "id": "21248236ef2d281a",
   "outputs": [],
   "execution_count": null
  },
  {
   "metadata": {},
   "cell_type": "markdown",
   "source": "Secondly, we define the target values of the features that we want to achieve. In this case, we are looking for the process parameters that will result in a deposit with the given r_max and R_ind values.",
   "id": "f1c8a1395c8798e7"
  },
  {
   "metadata": {
    "ExecuteTime": {
     "end_time": "2024-10-10T14:59:51.560104Z",
     "start_time": "2024-10-10T14:59:51.557483Z"
    }
   },
   "cell_type": "code",
   "source": [
    "r_max = [0.829] #  Normalaized peak position\n",
    "R_ind = [0.333] #  Relative indent"
   ],
   "id": "4a1ea05ccb7e649c",
   "outputs": [],
   "execution_count": 16
  },
  {
   "metadata": {},
   "cell_type": "markdown",
   "source": [
    "Using the normalized peak position $r_{max}$ and the relative indent $R_{ind}$, we determine the values of depletion $\\tau$ and diffusive replenishment $\\rho_o$.\n",
    "This can be achieved in two ways:\n",
    "* using pre-calculated maps of $r_{max}$ and $R_{ind}$ resolved on a $\\tau$ – $\\rho_o$ grid.\n",
    "* using a *Reaction-Diffusion Equation* (RDE) solver and a minimization function.\n",
    "\n",
    "Using maps (interpolation functions) is substantially faster, but it takes a substantial amount of time to establish them. \n",
    "Moreover, one set of two maps is valid only for a certain order of the Super Gaussian (SG) intensity profile.\n",
    "\n",
    "Because solving a RDE is an expensive operation, it is feasable to use it only with a minimization function or any other function that does not require a large number of evaluations.\n",
    "But a simple minimization function suffers from a huge problem that all the fancy optimisation algorithms try to alleviate: entrapmnent in a local minimum.\n",
    "\n",
    "In this regard, PSO is a better choice. Due to its stochastic nature, it is less likely to get stuck in a local minimum. But it requires substantually more evaluations of the function and thus is more computationally expensive.\n",
    "\n",
    "Here both approaches are described. The user is encouraged to change the bounds and the hyperparameters to see their effect on the results."
   ],
   "id": "5ed6f461d3e7cc3b"
  },
  {
   "metadata": {},
   "cell_type": "markdown",
   "source": [
    "## 2. Building a solution\n",
    "### 2.1 Using the minimization function\n",
    "#### 2.1.1 Define the function to minimize\n",
    "Any optimization problem has to be brought down to a minimization problem. In this case, we are looking for the process parameters that will result in a deposit with the given r_max and R_ind values. The function that we will be minimizing is the difference between the target values and the values calculated by the model."
   ],
   "id": "3d4a6e6d369ca66c"
  },
  {
   "metadata": {},
   "cell_type": "code",
   "source": [
    "def obj_func(xy):\n",
    "    pr_d.p_o, pr_d.tau_r = xy\n",
    "    pr_d.solve_steady_state()\n",
    "    r_m = pr_d.r_max/pr_d.fwhm\n",
    "    R_i = pr_d.R_ind\n",
    "    print(f'r_m, R_i: {r_m:.3f},{R_i:.3f}, tau, p_o: {pr_d.tau_r:.3f},{pr_d.p_o:.3f}')\n",
    "    return abs(r_m - z11) + abs(R_i - z22) # + abs(phi - zz3)"
   ],
   "id": "42bba83fa0cc7091",
   "outputs": [],
   "execution_count": null
  },
  {
   "metadata": {},
   "cell_type": "markdown",
   "source": [
    "#### 2.1.2 Define the bounds\n",
    "The bounds are the limits of the search space. It is highly recommended to set them as close to the expected values as possible. This will reduce the number of evaluations and the probability of getting stuck in a local minimum."
   ],
   "id": "472f0c44e04a4f69"
  },
  {
   "metadata": {},
   "cell_type": "code",
   "source": "bonds = [(0.1, 2), (1000, 10000)]",
   "id": "e65a87ce299cda14",
   "outputs": [],
   "execution_count": null
  },
  {
   "metadata": {},
   "cell_type": "markdown",
   "source": [
    "#### 2.1.3 Perform the minimization\n",
    "Finally, we build up the optimisation script and run it. The script will print the current iteration and the values of the current step."
   ],
   "id": "3b67313b61d16117"
  },
  {
   "metadata": {},
   "cell_type": "code",
   "source": [
    "def print_progress(xk):\n",
    "    print(f\"Iteration: {len(progress)}, {xk}\")\n",
    "    progress.append(xk)\n",
    "# Perform the minimization to find the (x, y) coordinates\n",
    "initial_guess = [1, 9000]  # Starting point for optimization\n",
    "res = []\n",
    "progress = []\n",
    "for z11, z22 in zip(r_max, R_ind):\n",
    "    result = minimize(obj_func, initial_guess, method='L-BFGS-B', bounds=bonds, callback=print_progress)\n",
    "    res.append(result.x)\n",
    "    print(f'r_max, R_ind: {z11:.3f},{z22:.3f}, x,y:{result.x.astype(np.float32):}')\n",
    "res = np.array(res)\n",
    "print(res)"
   ],
   "id": "8b229fcc2d2a295e",
   "outputs": [],
   "execution_count": null
  },
  {
   "metadata": {},
   "cell_type": "markdown",
   "source": [
    "### 2.2 Using the PSO algorithm \n",
    "#### 2.2.1 Open the maps (interpolation functions)\n",
    "Because for the PSO algorithm we need to evaluate the function many times, it is better to use the maps. Here we open the maps."
   ],
   "id": "581ebd57442b6f12"
  },
  {
   "metadata": {},
   "cell_type": "code",
   "source": [
    "r_max_map_fname = r'../examples/r_max_interp_1.0.int'\n",
    "R_ind_map_fname = r'../examples/R_ind_interp_1.0.int'\n",
    "r_max_map_learner = learner_load_full(r_max_map_fname)\n",
    "R_ind_map_learner = learner_load_full(R_ind_map_fname)\n",
    "r_max_map = learner_interpolator(r_max_map_learner)\n",
    "R_ind_map = learner_interpolator(R_ind_map_learner)"
   ],
   "id": "c845de9b3a5271f3",
   "outputs": [],
   "execution_count": null
  },
  {
   "metadata": {},
   "cell_type": "markdown",
   "source": [
    "#### 2.2.2 Define the function to minimize\n",
    "For the PSO algorithm, we have to define the function that will be minimized. The function has to return the value of the objective function.\n",
    "The objective function for the PSO has to accept and return certain arguments as shown below. "
   ],
   "id": "7adff8ff68ae4c43"
  },
  {
   "metadata": {},
   "cell_type": "code",
   "source": [
    "def operator_func_map(ref_names, maps, param_names, param_vars):\n",
    "    \"\"\"\n",
    "    Set parameters and run a simulation, process-safe\n",
    "    :param ref_names:\n",
    "    :param pr: experiment instance\n",
    "    :param param_names: parameters names to set\n",
    "    :param param_vars: parameters values to set\n",
    "    :return:\n",
    "    \"\"\"    \n",
    "    r_max_map = maps[0]\n",
    "    R_ind_map = maps[1]\n",
    "    r_m = r_max_map(param_vars[0], param_vars[1])\n",
    "    R_i = R_ind_map(param_vars[0], param_vars[1])\n",
    "\n",
    "    result = {}\n",
    "    vals = [r_m, R_i] + param_vars.tolist()\n",
    "    names = ref_names + param_names\n",
    "    for name, val in zip(names, vals):\n",
    "        result[name] = val\n",
    "\n",
    "    return result"
   ],
   "id": "710db2d1286ca7f7",
   "outputs": [],
   "execution_count": null
  },
  {
   "metadata": {},
   "cell_type": "markdown",
   "source": "#### 2.2.3 Define the bounds",
   "id": "65fa045034701f69"
  },
  {
   "metadata": {},
   "cell_type": "code",
   "source": "bonds = [(0.1, 2), (1000, 10000)]",
   "id": "d6c151d9f25d6f6d",
   "outputs": [],
   "execution_count": null
  },
  {
   "metadata": {},
   "cell_type": "markdown",
   "source": [
    "#### 2.2.4 Perform the PSO\n",
    "There are several hyperparameters that can be set to improve the performance of the PSO algorithm. The most important are the number of particles and the number of iterations.\n",
    "To that, there are two additional parameters that can be set: c1 and c2. They are the cognitive and social parameters, respectively. They control the influence of the personal best and the global best on the particle's velocity."
   ],
   "id": "6bc024ae9a90982a"
  },
  {
   "metadata": {},
   "cell_type": "code",
   "source": [
    "res = []\n",
    "for x, y in zip(r_max, R_ind):\n",
    "    pso = PSOptimizerMP(2, 2, n_particles=50, n_cores=1, n_iterations=50) # more than one core is not supported in the notebooks\n",
    "    pso.set_reference((x, 'r_max_n'), (y, 'R_ind'))\n",
    "    pso.set_variables((0.01, 15, 0.1, 'p_o'), (10, 2000, 5, 'tau_r'))  # setting the bounds. The third parameter is related to 'velocity' or how much the particle is allowed to accelerate.\n",
    "    pso.visualize = False\n",
    "    # The cognitive and social parameters\n",
    "    pso.c1 = 2\n",
    "    pso.c2 = 1\n",
    "    pso.set_operator(operator_func_map)\n",
    "    pso.configure_operator(['r_max_n', 'R_ind'], (r_max_map, R_ind_map))\n",
    "    result = pso.start_optimization()\n",
    "    fit_score = pso.global_best_value\n",
    "    res.append(result)\n",
    "print(res)\n"
   ],
   "id": "fa60ff180f9c7792",
   "outputs": [],
   "execution_count": null
  }
 ],
 "metadata": {
  "kernelspec": {
   "display_name": "Python 3",
   "language": "python",
   "name": "python3"
  },
  "language_info": {
   "codemirror_mode": {
    "name": "ipython",
    "version": 2
   },
   "file_extension": ".py",
   "mimetype": "text/x-python",
   "name": "python",
   "nbconvert_exporter": "python",
   "pygments_lexer": "ipython2",
   "version": "2.7.6"
  }
 },
 "nbformat": 4,
 "nbformat_minor": 5
}
