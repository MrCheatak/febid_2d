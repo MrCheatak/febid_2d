{
 "cells": [
  {
   "metadata": {},
   "cell_type": "markdown",
   "source": [
    "# Map a function with adaptive sampling and segmentation\n",
    "\n",
    "This is a more advanced approach to learning a function with adaptive sampling.\n",
    "\n",
    "\n",
    "The learning domain is subdivided into a number of regions (4 in the current case) and the function is sampled adaptively in each region.\n",
    "The regions are then combined into a single learner.\n",
    "Each region is sampled until it reaches a predefined loss goal. The combined learner is finally sampled until it reaches the same loss goal.\n",
    "\n",
    "The learners at each step are saved and can be reloaded to continue the learning process."
   ],
   "id": "a2573004bb0ac012"
  },
  {
   "cell_type": "code",
   "id": "71127bc8e2ca4c62",
   "metadata": {},
   "source": [
    "import os\n",
    "from copy import deepcopy\n",
    "\n",
    "import adaptive\n",
    "import matplotlib.pyplot as plt\n",
    "from backend import adaptive_tools\n",
    "from backend.processclass2 import Experiment1D_Dimensionless\n",
    "\n",
    "%matplotlib notebook\n",
    "adaptive.notebook_extension()"
   ],
   "outputs": [],
   "execution_count": null
  },
  {
   "metadata": {},
   "cell_type": "markdown",
   "source": [
    "\n",
    "## 1. Define the function to be learned\n",
    "\n",
    "Our function is the relation between the `r_max_n` and the input parameters `p_o` and `tau_r` that is obtained by solving the RDE equation of the Continuum model.\n",
    "Here we use the `Experiment1D_Dimensionless` class that represents the dimensionless version of the RDE equation.\n",
    "\n",
    "First, we need to set up the RDE solver with necessary parameters:"
   ],
   "id": "68e78eca29268bcf"
  },
  {
   "metadata": {},
   "cell_type": "code",
   "source": [
    "pr = Experiment1D_Dimensionless()\n",
    "pr.beam_type = 'super_gauss'\n",
    "pr.f0 = 1e6\n",
    "pr.fwhm = 500\n",
    "pr.step = 2\n",
    "pr.order = 1"
   ],
   "id": "f1c72ec633912dec",
   "outputs": [],
   "execution_count": null
  },
  {
   "metadata": {},
   "cell_type": "markdown",
   "source": "Then, we can define a simple function that can recieve the input parameters, set them into the RDE solver and return result:",
   "id": "a24b293f7ae2223a"
  },
  {
   "metadata": {},
   "cell_type": "code",
   "source": [
    "def rde_r_max(xy):\n",
    "    global pr\n",
    "    _ = Experiment1D_Dimensionless()\n",
    "    pr = deepcopy(pr)\n",
    "    x, y = xy\n",
    "    pr.p_o = x\n",
    "    pr.tau_r = y\n",
    "    pr.solve_steady_state()\n",
    "    return pr.r_max_n"
   ],
   "id": "609570f25b18f769",
   "outputs": [],
   "execution_count": null
  },
  {
   "metadata": {},
   "cell_type": "markdown",
   "source": [
    "## 2. Define the segmentation of the function domain\n",
    "\n",
    "Next, we define the domain of the function to be learned and divide it into regions.\n",
    "Each region is defined by left-bottom and right-top corners.\n",
    "\n",
    "The domain subdivision is based on the preliminary coarse sampling of the function.\n",
    "In the current case, the domain is divided into 4 regions:\n",
    "\n",
    "   * bottom-left segment contains a corner region with an abrupt edge,\n",
    "   * top-left segment contains a thin long region with an abrupt edge,\n",
    "   * bottom-right segment contains a gradual slope\n",
    "   * top-right segment contains a rather flat region\n",
    "\n",
    "##### Zoom in to see the regions better"
   ],
   "id": "83788510d0a76835"
  },
  {
   "metadata": {},
   "cell_type": "code",
   "source": [
    "# Define the bounds for each segment\n",
    "segments = [\n",
    "    ((0.23, 0.3), (1000, 10000)),\n",
    "    ((0.4, 20), (1.0001, 1000)),\n",
    "    ((0.28, 0.4), (1.0001, 1000)),\n",
    "    ((0.3, 20), (1000, 10000))\n",
    "]"
   ],
   "id": "8c6c1691c87dfef8",
   "outputs": [],
   "execution_count": null
  },
  {
   "metadata": {},
   "cell_type": "code",
   "source": [
    "prelim_fname = r'examples/r_max_interp_1.0.int'\n",
    "preliminary_map = adaptive_tools.learner_load_full(prelim_fname)"
   ],
   "id": "519faf1a97384759",
   "outputs": [],
   "execution_count": null
  },
  {
   "metadata": {},
   "cell_type": "code",
   "source": [
    "# Create a plot\n",
    "plt.figure(figsize=(10, 8))\n",
    "\n",
    "# Define colors for each segment\n",
    "colors = ['red', 'green', 'blue', 'orange']\n",
    "\n",
    "# Plot each segment\n",
    "for i, ((x_min, x_max), (y_min, y_max)) in enumerate(segments):\n",
    "    plt.fill_betweenx([y_min, y_max], x_min, x_max, color=colors[i], alpha=0.3, label=f'Segment {i+1}')\n",
    "\n",
    "# # Plot each segment with black lines\n",
    "# for (x_min, x_max), (y_min, y_max) in segments:\n",
    "#     plt.plot([x_min, x_max], [y_min, y_min], 'k-')  # Bottom line\n",
    "#     plt.plot([x_min, x_max], [y_max, y_max], 'k-')  # Top line\n",
    "#     plt.plot([x_min, x_min], [y_min, y_max], 'k-')  # Left line\n",
    "#     plt.plot([x_max, x_max], [y_min, y_max], 'k-')  # Right line\n",
    "\n",
    "X, Y, Z = preliminary_map.interpolated_on_grid(5000)\n",
    "Z = Z.T\n",
    "extent = [X.min(), X.max(), Y.min(), Y.max()]\n",
    "\n",
    "# Overlay the imshow plot\n",
    "plt.imshow(Z, extent=extent, origin='lower', aspect='auto', cmap='viridis')\n",
    "\n",
    "# Add labels and a legend\n",
    "plt.xlabel('$x$')\n",
    "plt.ylabel('$y$')\n",
    "# plt.semilogx(True)\n",
    "# plt.semilogy(True)\n",
    "plt.title('Segmentation of the learned function domain')\n",
    "plt.legend()\n",
    "\n",
    "# Display the plot\n",
    "plt.show()"
   ],
   "id": "49292d3cc916ff24",
   "outputs": [],
   "execution_count": null
  },
  {
   "metadata": {},
   "cell_type": "markdown",
   "source": "#### Plotting function to visualize the learning process",
   "id": "bb1c081b36889ebd"
  },
  {
   "cell_type": "code",
   "id": "49c354872c1e2c65",
   "metadata": {},
   "source": [
    "def plot(learner, npoints=300, tri_alpha=0.2, width=300, height=300, xlim=None, ylim=None):\n",
    "    plot = learner.plot(npoints, tri_alpha=tri_alpha)\n",
    "    if xlim is not None:\n",
    "        plot.opts(xlim=xlim)\n",
    "    if ylim is not None:\n",
    "        plot.opts(ylim=ylim)\n",
    "    plot.opts(width=width, height=height)\n",
    "    return plot"
   ],
   "outputs": [],
   "execution_count": null
  },
  {
   "metadata": {},
   "cell_type": "markdown",
   "source": "## 3. Learn the function",
   "id": "3755301a95d7954d"
  },
  {
   "metadata": {},
   "cell_type": "markdown",
   "source": [
    "### 3.1 Set up file names to save the learners\n",
    "Associate each segment with a file name to save"
   ],
   "id": "f7da0b470a604757"
  },
  {
   "metadata": {},
   "cell_type": "code",
   "source": "segments",
   "id": "6381cd16c447369",
   "outputs": [],
   "execution_count": null
  },
  {
   "metadata": {},
   "cell_type": "code",
   "source": [
    "fname1 = 'r_max_interp_1.0_vertical.int'\n",
    "fname2 = 'r_max_interp_1.0_horizontal.int'\n",
    "fname3 = 'r_max_interp_1.0_corner.int'\n",
    "fname4 = 'r_max_interp_1.0_rest.int'\n",
    "# Final combined domain\n",
    "fname5 = 'maps_temp/r_max_interp_1.0_full.int'"
   ],
   "id": "afe61962b29d9ed1",
   "outputs": [],
   "execution_count": null
  },
  {
   "metadata": {},
   "cell_type": "markdown",
   "source": "### 3.2 Learn the function in each segment separately",
   "id": "ba501582dd58750f"
  },
  {
   "metadata": {},
   "cell_type": "markdown",
   "source": "#### Segment 1",
   "id": "62850a011d031918"
  },
  {
   "cell_type": "code",
   "id": "dc5a71c86b63a2e",
   "metadata": {},
   "source": [
    "# Check if file exists\n",
    "if os.path.isfile(fname1):\n",
    "    learner1 = adaptive_tools.learner_load_full(fname1)\n",
    "    learner1.function = rde_r_max\n",
    "else:\n",
    "    learner1 = adaptive.Learner2D(rde_r_max, bounds=segments[0])\n",
    "runner1 = adaptive.Runner(learner1, loss_goal=0.001, ntasks=2)\n",
    "runner1.live_info()\n",
    "runner1.start_periodic_saving(save_kwargs=dict(fname=fname1), interval=60)"
   ],
   "outputs": [],
   "execution_count": null
  },
  {
   "cell_type": "code",
   "id": "f29804f696255074",
   "metadata": {},
   "source": [
    "# runner1.live_plot(plotter=plot, update_interval=0.5)"
   ],
   "outputs": [],
   "execution_count": null
  },
  {
   "cell_type": "code",
   "id": "9b7ecd8d49203636",
   "metadata": {},
   "source": "learner1.to_numpy()",
   "outputs": [],
   "execution_count": null
  },
  {
   "cell_type": "code",
   "id": "55a6ad35a1e169af",
   "metadata": {},
   "source": [
    "plot(learner1, npoints=1500, tri_alpha=0.2, width=800, height=800)"
   ],
   "outputs": [],
   "execution_count": null
  },
  {
   "metadata": {},
   "cell_type": "markdown",
   "source": "#### Segment 2",
   "id": "4d22f343c8cc67bd"
  },
  {
   "cell_type": "code",
   "id": "410fd03e6458bc1e",
   "metadata": {},
   "source": [
    "if os.path.isfile(fname2):\n",
    "    learner2 = adaptive_tools.learner_load_full(fname2)\n",
    "    learner2.function = rde_r_max\n",
    "else:\n",
    "    learner2 = adaptive.Learner2D(rde_r_max, bounds=segments[1])\n",
    "runner2 = adaptive.Runner(learner2, loss_goal=0.001, ntasks=2)\n",
    "runner2.live_info()\n",
    "runner2.start_periodic_saving(save_kwargs=dict(fname=fname2), interval=60)"
   ],
   "outputs": [],
   "execution_count": null
  },
  {
   "cell_type": "code",
   "id": "e599539fd259dd1b",
   "metadata": {},
   "source": [
    "# runner2.live_plot(plotter=plot, update_interval=0.5)"
   ],
   "outputs": [],
   "execution_count": null
  },
  {
   "cell_type": "code",
   "id": "4e931e7b0863f0b4",
   "metadata": {},
   "source": [
    "plot(learner2, npoints=1500, tri_alpha=0.2, width=800, height=800)"
   ],
   "outputs": [],
   "execution_count": null
  },
  {
   "metadata": {},
   "cell_type": "markdown",
   "source": "#### Segment 3",
   "id": "def7bcce363ebd19"
  },
  {
   "cell_type": "code",
   "id": "60d758878816c4cc",
   "metadata": {},
   "source": [
    "if os.path.isfile(fname3):\n",
    "    learner3 = adaptive_tools.learner_load_full(fname3)\n",
    "    learner3.function = rde_r_max\n",
    "else:\n",
    "    learner3 = adaptive.Learner2D(rde_r_max, bounds=segments[2])\n",
    "runner3 = adaptive.Runner(learner3, loss_goal=0.001, ntasks=2)\n",
    "runner3.live_info()\n",
    "runner3.start_periodic_saving(save_kwargs=dict(fname=fname3), interval=60)"
   ],
   "outputs": [],
   "execution_count": null
  },
  {
   "cell_type": "code",
   "id": "c49fc28cdc6722fc",
   "metadata": {},
   "source": [
    "# runner3.live_plot(plotter=plot, update_interval=0.5)"
   ],
   "outputs": [],
   "execution_count": null
  },
  {
   "cell_type": "code",
   "id": "111a6746e8c4dd4a",
   "metadata": {},
   "source": [
    "plot(learner3, npoints=1500, tri_alpha=0.2, width=800, height=800)"
   ],
   "outputs": [],
   "execution_count": null
  },
  {
   "metadata": {},
   "cell_type": "markdown",
   "source": "#### Segment 4",
   "id": "fd1c7b3c56ea343a"
  },
  {
   "cell_type": "code",
   "id": "950fa49bcd75fd47",
   "metadata": {},
   "source": [
    "if os.path.isfile(fname4):\n",
    "    learner4 = adaptive_tools.learner_load_full(fname4)\n",
    "    learner4.function = rde_r_max\n",
    "else:\n",
    "    learner4 = adaptive.Learner2D(rde_r_max, bounds=segments[3])\n",
    "runner4 = adaptive.Runner(learner4, loss_goal=0.001, ntasks=2, log=True)\n",
    "runner4.live_info()\n",
    "runner4.start_periodic_saving(save_kwargs=dict(fname=fname4), interval=60)"
   ],
   "outputs": [],
   "execution_count": null
  },
  {
   "metadata": {},
   "cell_type": "code",
   "source": "runner4.live_plot(plotter=plot, update_interval=0.5)",
   "id": "f5fde2c5d14f78d2",
   "outputs": [],
   "execution_count": null
  },
  {
   "metadata": {},
   "cell_type": "code",
   "source": "plot(learner4, npoints=500, tri_alpha=0.2, width=800, height=800)",
   "id": "624f5c40c7b614b",
   "outputs": [],
   "execution_count": null
  },
  {
   "metadata": {},
   "cell_type": "markdown",
   "source": "### 3.3 Combine the learners into a single domain",
   "id": "24e89b9d3d0c4eef"
  },
  {
   "cell_type": "code",
   "id": "ee64e1bb4a582105",
   "metadata": {},
   "source": [
    "learner12 = adaptive_tools.combine_learners(learner1, learner2)\n",
    "learner123 = adaptive_tools.combine_learners(learner12, learner3)\n",
    "learner1234 = adaptive_tools.combine_learners(learner123, learner4)"
   ],
   "outputs": [],
   "execution_count": null
  },
  {
   "metadata": {},
   "cell_type": "markdown",
   "source": "As you can see, the segments combined nicely and correctly constitute the learned domain:",
   "id": "b1258b8fae3c29db"
  },
  {
   "cell_type": "code",
   "id": "cd41ccc9169aa25f",
   "metadata": {},
   "source": "plot(learner1234, npoints=2000, tri_alpha=0.2, width=800, height=800)",
   "outputs": [],
   "execution_count": null
  },
  {
   "metadata": {},
   "cell_type": "code",
   "source": "adaptive_tools.plot_learner(learner1234, n_points=7000, dpi=100)",
   "id": "e56cf2a56537925f",
   "outputs": [],
   "execution_count": null
  },
  {
   "metadata": {},
   "cell_type": "markdown",
   "source": [
    "### 3.4 Learn the function in the combined domain\n",
    "\n",
    "Some regions were deliberately exluded to focus the learners on the features of the function.\n",
    "In this step the learning is finalized by sampling the function in the whole domain."
   ],
   "id": "61cb0bf0155ecffb"
  },
  {
   "metadata": {},
   "cell_type": "code",
   "source": "whole_domain = ((0, 20), (1.0001, 10000))",
   "id": "f58ff6b749fd3f90",
   "outputs": [],
   "execution_count": null
  },
  {
   "metadata": {},
   "cell_type": "code",
   "source": [
    "learner_full = adaptive_tools.learner_rebound(learner1234, bounds=whole_domain)\n",
    "learner_full.function = rde_r_max\n",
    "df = learner_full.to_dataframe()\n",
    "learner_full = adaptive.Learner2D(rde_r_max, bounds=whole_domain)\n",
    "learner_full.load_dataframe(df)\n"
   ],
   "id": "2364f7161a111779",
   "outputs": [],
   "execution_count": null
  },
  {
   "metadata": {},
   "cell_type": "code",
   "source": "learner_full.to_numpy().shape",
   "id": "3356379312c9889e",
   "outputs": [],
   "execution_count": null
  },
  {
   "metadata": {},
   "cell_type": "code",
   "source": "learner4.data",
   "id": "c3bb374e07d97699",
   "outputs": [],
   "execution_count": null
  },
  {
   "metadata": {},
   "cell_type": "code",
   "source": [
    "if os.path.isfile(fname5):\n",
    "    learner_full = adaptive_tools.learner_load_full(fname5)\n",
    "    learner_full.function = rde_r_max\n",
    "learner_full.function = rde_r_max\n",
    "runner5 = adaptive.Runner(learner_full, loss_goal=0.001, ntasks=4, log=True)\n",
    "runner5.live_info()\n",
    "runner5.start_periodic_saving(save_kwargs=dict(fname=fname5), interval=60)"
   ],
   "id": "d68ac55609b78011",
   "outputs": [],
   "execution_count": null
  },
  {
   "metadata": {},
   "cell_type": "code",
   "source": "plot(learner_full, 1000, tri_alpha=0.2, width=800, height=800)",
   "id": "c4caa465e7c99fde",
   "outputs": [],
   "execution_count": null
  },
  {
   "metadata": {},
   "cell_type": "code",
   "source": "plot(learner_full, 1000, tri_alpha=0.2, width=800, height=800)",
   "id": "25ede69d2fecc3b3",
   "outputs": [],
   "execution_count": null
  },
  {
   "metadata": {},
   "cell_type": "code",
   "source": "adaptive_tools.plot_learner(learner_full, n_points=9000, dpi=100)",
   "id": "d100ebd41e7cecfc",
   "outputs": [],
   "execution_count": null
  },
  {
   "metadata": {},
   "cell_type": "code",
   "source": "",
   "id": "e4dc10270b316a46",
   "outputs": [],
   "execution_count": null
  }
 ],
 "metadata": {
  "kernelspec": {
   "display_name": "Python 3 (ipykernel)",
   "language": "python",
   "name": "python3"
  },
  "language_info": {
   "codemirror_mode": {
    "name": "ipython",
    "version": 3
   },
   "file_extension": ".py",
   "mimetype": "text/x-python",
   "name": "python",
   "nbconvert_exporter": "python",
   "pygments_lexer": "ipython3",
   "version": "3.10.12"
  }
 },
 "nbformat": 4,
 "nbformat_minor": 5
}
